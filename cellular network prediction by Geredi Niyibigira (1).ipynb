{
 "cells": [
  {
   "cell_type": "markdown",
   "id": "8336d402",
   "metadata": {},
   "source": [
    "## This project is basically aimed to predict how much cellulars network availble per 100 inhabitants in Rwanda.\n",
    "\n",
    "###### This project was done and completed by: \n",
    "Geredi NIYIBIGIRA\n",
    "\n",
    "\n",
    "### The task is include not limited to:\n",
    "\n",
    "#import required Libraries\n",
    "\n",
    "#Import dataset\n",
    "\n",
    "#Define x and y\n",
    "\n",
    "#Split the dataset into training and test set\n",
    "\n",
    "#Training the Model on the training set\n",
    "\n",
    "#Predict the test set result\n",
    "\n",
    "#Evaluate the model\n",
    "\n",
    "#Plot the resuts\n",
    "\n",
    "#Predicted Values"
   ]
  },
  {
   "cell_type": "markdown",
   "id": "d8a72872",
   "metadata": {},
   "source": [
    "# import required Libraries"
   ]
  },
  {
   "cell_type": "code",
   "execution_count": 27,
   "id": "1f6faf01",
   "metadata": {},
   "outputs": [
    {
     "name": "stdout",
     "output_type": "stream",
     "text": [
      "Requirement already satisfied: pandoc in c:\\users\\teacher\\anaconda3\\lib\\site-packages (2.2)\n",
      "Requirement already satisfied: ply in c:\\users\\teacher\\anaconda3\\lib\\site-packages (from pandoc) (3.11)\n",
      "Requirement already satisfied: plumbum in c:\\users\\teacher\\anaconda3\\lib\\site-packages (from pandoc) (1.7.2)\n",
      "Requirement already satisfied: pywin32 in c:\\users\\teacher\\anaconda3\\lib\\site-packages (from plumbum->pandoc) (302)\n",
      "Note: you may need to restart the kernel to use updated packages.\n"
     ]
    }
   ],
   "source": [
    "pip install pandoc"
   ]
  },
  {
   "cell_type": "code",
   "execution_count": 1,
   "id": "a56765cc",
   "metadata": {},
   "outputs": [],
   "source": [
    "import pandas as pd\n",
    "import numpy as np\n",
    "import matplotlib.pyplot as plt\n",
    "import seaborn as sns\n",
    "%matplotlib inline\n",
    "from math import sqrt\n",
    "from sklearn import datasets, linear_model\n",
    "from sklearn import preprocessing\n",
    "from sklearn.model_selection import train_test_split\n",
    "from sklearn.feature_selection import RFE"
   ]
  },
  {
   "cell_type": "markdown",
   "id": "39d7d534",
   "metadata": {},
   "source": [
    "N.B the dataset used in this project was taken from uci machne learnng repostory"
   ]
  },
  {
   "cell_type": "markdown",
   "id": "b55dc715",
   "metadata": {},
   "source": [
    "## Import dataset"
   ]
  },
  {
   "cell_type": "code",
   "execution_count": 2,
   "id": "8105982b",
   "metadata": {},
   "outputs": [
    {
     "data": {
      "text/html": [
       "<div>\n",
       "<style scoped>\n",
       "    .dataframe tbody tr th:only-of-type {\n",
       "        vertical-align: middle;\n",
       "    }\n",
       "\n",
       "    .dataframe tbody tr th {\n",
       "        vertical-align: top;\n",
       "    }\n",
       "\n",
       "    .dataframe thead th {\n",
       "        text-align: right;\n",
       "    }\n",
       "</style>\n",
       "<table border=\"1\" class=\"dataframe\">\n",
       "  <thead>\n",
       "    <tr style=\"text-align: right;\">\n",
       "      <th></th>\n",
       "      <th>Year</th>\n",
       "      <th>Kenya</th>\n",
       "      <th>Sudan</th>\n",
       "      <th>Tanzania</th>\n",
       "      <th>Uganda</th>\n",
       "      <th>Rwanda</th>\n",
       "    </tr>\n",
       "  </thead>\n",
       "  <tbody>\n",
       "    <tr>\n",
       "      <th>0</th>\n",
       "      <td>2000</td>\n",
       "      <td>0.41</td>\n",
       "      <td>0.07</td>\n",
       "      <td>0.32</td>\n",
       "      <td>0.52</td>\n",
       "      <td>0.46</td>\n",
       "    </tr>\n",
       "    <tr>\n",
       "      <th>1</th>\n",
       "      <td>2001</td>\n",
       "      <td>1.87</td>\n",
       "      <td>0.30</td>\n",
       "      <td>0.79</td>\n",
       "      <td>1.13</td>\n",
       "      <td>0.74</td>\n",
       "    </tr>\n",
       "    <tr>\n",
       "      <th>2</th>\n",
       "      <td>2002</td>\n",
       "      <td>3.60</td>\n",
       "      <td>0.53</td>\n",
       "      <td>1.69</td>\n",
       "      <td>1.52</td>\n",
       "      <td>0.92</td>\n",
       "    </tr>\n",
       "    <tr>\n",
       "      <th>3</th>\n",
       "      <td>2003</td>\n",
       "      <td>4.69</td>\n",
       "      <td>1.44</td>\n",
       "      <td>3.53</td>\n",
       "      <td>2.89</td>\n",
       "      <td>1.43</td>\n",
       "    </tr>\n",
       "    <tr>\n",
       "      <th>4</th>\n",
       "      <td>2004</td>\n",
       "      <td>7.31</td>\n",
       "      <td>2.80</td>\n",
       "      <td>5.14</td>\n",
       "      <td>4.20</td>\n",
       "      <td>1.48</td>\n",
       "    </tr>\n",
       "    <tr>\n",
       "      <th>5</th>\n",
       "      <td>2005</td>\n",
       "      <td>12.89</td>\n",
       "      <td>4.76</td>\n",
       "      <td>7.63</td>\n",
       "      <td>4.58</td>\n",
       "      <td>2.36</td>\n",
       "    </tr>\n",
       "  </tbody>\n",
       "</table>\n",
       "</div>"
      ],
      "text/plain": [
       "   Year  Kenya  Sudan  Tanzania  Uganda  Rwanda\n",
       "0  2000   0.41   0.07      0.32    0.52    0.46\n",
       "1  2001   1.87   0.30      0.79    1.13    0.74\n",
       "2  2002   3.60   0.53      1.69    1.52    0.92\n",
       "3  2003   4.69   1.44      3.53    2.89    1.43\n",
       "4  2004   7.31   2.80      5.14    4.20    1.48\n",
       "5  2005  12.89   4.76      7.63    4.58    2.36"
      ]
     },
     "execution_count": 2,
     "metadata": {},
     "output_type": "execute_result"
    }
   ],
   "source": [
    "doc= pd.read_csv(r\"C:\\Users\\Teacher\\Downloads\\E-A_cellulars_per_100.csv\")\n",
    "doc.head(6)"
   ]
  },
  {
   "cell_type": "markdown",
   "id": "afce2ebd",
   "metadata": {},
   "source": [
    "## Define x and y"
   ]
  },
  {
   "cell_type": "code",
   "execution_count": 13,
   "id": "f242a68b",
   "metadata": {},
   "outputs": [],
   "source": [
    "x= doc.drop(['Year'],axis=1).values\n",
    "y=doc['Rwanda'].values"
   ]
  },
  {
   "cell_type": "code",
   "execution_count": 14,
   "id": "eba847ea",
   "metadata": {},
   "outputs": [
    {
     "name": "stdout",
     "output_type": "stream",
     "text": [
      "[[4.100e-01 7.000e-02 3.200e-01 5.200e-01 4.600e-01]\n",
      " [1.870e+00 3.000e-01 7.900e-01 1.130e+00 7.400e-01]\n",
      " [3.600e+00 5.300e-01 1.690e+00 1.520e+00 9.200e-01]\n",
      " [4.690e+00 1.440e+00 3.530e+00 2.890e+00 1.430e+00]\n",
      " [7.310e+00 2.800e+00 5.140e+00 4.200e+00 1.480e+00]\n",
      " [1.289e+01 4.760e+00 7.630e+00 4.580e+00 2.360e+00]\n",
      " [1.997e+01 1.190e+01 1.404e+01 6.760e+00 3.250e+00]\n",
      " [3.006e+01 2.036e+01 2.007e+01 1.365e+01 6.400e+00]\n",
      " [4.205e+01 2.895e+01 3.071e+01 2.692e+01 1.294e+01]\n",
      " [4.862e+01 3.611e+01 4.003e+01 2.855e+01 2.307e+01]\n",
      " [6.103e+01 4.154e+01 4.666e+01 3.774e+01 3.275e+01]\n",
      " [6.681e+01 6.878e+01 5.537e+01 4.750e+01 3.990e+01]\n",
      " [7.117e+01 7.436e+01 5.696e+01 4.500e+01 4.967e+01]\n",
      " [7.176e+01 7.285e+01 5.572e+01 4.808e+01 5.680e+01]\n",
      " [7.384e+01 7.220e+01 6.277e+01 5.243e+01 6.402e+01]\n",
      " [8.068e+01 7.053e+01 7.586e+01 5.037e+01 7.048e+01]\n",
      " [8.128e+01 6.863e+01 7.436e+01 5.507e+01 6.992e+01]]\n"
     ]
    }
   ],
   "source": [
    "print(x)"
   ]
  },
  {
   "cell_type": "code",
   "execution_count": 15,
   "id": "cde78cf7",
   "metadata": {},
   "outputs": [
    {
     "name": "stdout",
     "output_type": "stream",
     "text": [
      "[ 0.46  0.74  0.92  1.43  1.48  2.36  3.25  6.4  12.94 23.07 32.75 39.9\n",
      " 49.67 56.8  64.02 70.48 69.92]\n"
     ]
    }
   ],
   "source": [
    "print(y)"
   ]
  },
  {
   "cell_type": "markdown",
   "id": "6c869679",
   "metadata": {},
   "source": [
    "## Split the dataset into training and test set"
   ]
  },
  {
   "cell_type": "code",
   "execution_count": 16,
   "id": "eef11488",
   "metadata": {},
   "outputs": [],
   "source": [
    "from sklearn.model_selection import train_test_split\n",
    "x_train,x_test,y_train,y_test= train_test_split(x,y, test_size=0.2, random_state=0)"
   ]
  },
  {
   "cell_type": "markdown",
   "id": "9fbb94ff",
   "metadata": {},
   "source": [
    "## Training the Model on the training set"
   ]
  },
  {
   "cell_type": "code",
   "execution_count": 17,
   "id": "0f0503df",
   "metadata": {},
   "outputs": [
    {
     "data": {
      "text/plain": [
       "LinearRegression()"
      ]
     },
     "execution_count": 17,
     "metadata": {},
     "output_type": "execute_result"
    }
   ],
   "source": [
    "from sklearn.linear_model import LinearRegression\n",
    "lr=LinearRegression()\n",
    "lr.fit(x_train,y_train)"
   ]
  },
  {
   "cell_type": "markdown",
   "id": "0b6c2e3a",
   "metadata": {},
   "source": [
    "## Predict the test set result"
   ]
  },
  {
   "cell_type": "code",
   "execution_count": 18,
   "id": "e95928c5",
   "metadata": {},
   "outputs": [
    {
     "name": "stdout",
     "output_type": "stream",
     "text": [
      "[ 0.74  3.25 12.94 23.07]\n"
     ]
    }
   ],
   "source": [
    "y_pre=lr.predict(x_test)\n",
    "print(y_pre)"
   ]
  },
  {
   "cell_type": "code",
   "execution_count": 19,
   "id": "816ce2f7",
   "metadata": {},
   "outputs": [
    {
     "data": {
      "text/plain": [
       "array([0.46])"
      ]
     },
     "execution_count": 19,
     "metadata": {},
     "output_type": "execute_result"
    }
   ],
   "source": [
    "lr.predict([[0.41,0.07,0.32,0.52,0.46]])"
   ]
  },
  {
   "cell_type": "markdown",
   "id": "bbee2f68",
   "metadata": {},
   "source": [
    "## Evaluate the model"
   ]
  },
  {
   "cell_type": "code",
   "execution_count": 20,
   "id": "789ea1e1",
   "metadata": {},
   "outputs": [
    {
     "data": {
      "text/plain": [
       "1.0"
      ]
     },
     "execution_count": 20,
     "metadata": {},
     "output_type": "execute_result"
    }
   ],
   "source": [
    "from sklearn.metrics import r2_score\n",
    "r2_score(y_test,y_pre)"
   ]
  },
  {
   "cell_type": "markdown",
   "id": "3b45366b",
   "metadata": {},
   "source": [
    "## Plot the resuts"
   ]
  },
  {
   "cell_type": "code",
   "execution_count": 21,
   "id": "37390ee6",
   "metadata": {},
   "outputs": [
    {
     "data": {
      "text/plain": [
       "Text(0.5, 1.0, 'Actual Vs predicted ')"
      ]
     },
     "execution_count": 21,
     "metadata": {},
     "output_type": "execute_result"
    },
    {
     "data": {
      "image/png": "[encoded data removed]",
      "text/plain": [
       "<Figure size 432x144 with 1 Axes>"
      ]
     },
     "metadata": {
      "needs_background": "light"
     },
     "output_type": "display_data"
    }
   ],
   "source": [
    "plt.figure(figsize=(6,2))\n",
    "plt.scatter(y_test,y_pre)\n",
    "plt.xlabel('Actual')\n",
    "plt.ylabel('predicted')\n",
    "plt.title('Actual Vs predicted ')"
   ]
  },
  {
   "cell_type": "markdown",
   "id": "d2f3f7d7",
   "metadata": {},
   "source": [
    "## Predicted Values"
   ]
  },
  {
   "cell_type": "code",
   "execution_count": 22,
   "id": "6df5aaa1",
   "metadata": {},
   "outputs": [
    {
     "data": {
      "text/html": [
       "<div>\n",
       "<style scoped>\n",
       "    .dataframe tbody tr th:only-of-type {\n",
       "        vertical-align: middle;\n",
       "    }\n",
       "\n",
       "    .dataframe tbody tr th {\n",
       "        vertical-align: top;\n",
       "    }\n",
       "\n",
       "    .dataframe thead th {\n",
       "        text-align: right;\n",
       "    }\n",
       "</style>\n",
       "<table border=\"1\" class=\"dataframe\">\n",
       "  <thead>\n",
       "    <tr style=\"text-align: right;\">\n",
       "      <th></th>\n",
       "      <th>Actual value</th>\n",
       "      <th>predicted  value</th>\n",
       "      <th>DiFFERENCE</th>\n",
       "    </tr>\n",
       "  </thead>\n",
       "  <tbody>\n",
       "    <tr>\n",
       "      <th>0</th>\n",
       "      <td>0.74</td>\n",
       "      <td>0.74</td>\n",
       "      <td>-1.809664e-14</td>\n",
       "    </tr>\n",
       "    <tr>\n",
       "      <th>1</th>\n",
       "      <td>3.25</td>\n",
       "      <td>3.25</td>\n",
       "      <td>-5.329071e-15</td>\n",
       "    </tr>\n",
       "    <tr>\n",
       "      <th>2</th>\n",
       "      <td>12.94</td>\n",
       "      <td>12.94</td>\n",
       "      <td>8.881784e-15</td>\n",
       "    </tr>\n",
       "    <tr>\n",
       "      <th>3</th>\n",
       "      <td>23.07</td>\n",
       "      <td>23.07</td>\n",
       "      <td>3.552714e-15</td>\n",
       "    </tr>\n",
       "  </tbody>\n",
       "</table>\n",
       "</div>"
      ],
      "text/plain": [
       "   Actual value  predicted  value     DiFFERENCE\n",
       "0          0.74               0.74 -1.809664e-14\n",
       "1          3.25               3.25 -5.329071e-15\n",
       "2         12.94              12.94  8.881784e-15\n",
       "3         23.07              23.07  3.552714e-15"
      ]
     },
     "execution_count": 22,
     "metadata": {},
     "output_type": "execute_result"
    }
   ],
   "source": [
    "plot_pred= pd.DataFrame({'Actual value':y_test,'predicted  value ': y_pre,'DiFFERENCE': y_test-y_pre})\n",
    "plot_pred[0:10]"
   ]
  }
 ],
 "metadata": {
  "kernelspec": {
   "display_name": "Python 3 (ipykernel)",
   "language": "python",
   "name": "python3"
  },
  "language_info": {
   "codemirror_mode": {
    "name": "ipython",
    "version": 3
   },
   "file_extension": ".py",
   "mimetype": "text/x-python",
   "name": "python",
   "nbconvert_exporter": "python",
   "pygments_lexer": "ipython3",
   "version": "3.9.12"
  }
 },
 "nbformat": 4,
 "nbformat_minor": 5
}
